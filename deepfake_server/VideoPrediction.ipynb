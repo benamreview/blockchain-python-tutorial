{
 "cells": [
  {
   "cell_type": "code",
   "execution_count": null,
   "metadata": {},
   "outputs": [],
   "source": [
    "import tensorflow as tf\n",
    "import dlib\n",
    "import cv2\n",
    "import os\n",
    "import numpy as np\n",
    "from PIL import Image, ImageChops, ImageEnhance\n",
    "from tensorflow.keras.models import load_model\n",
    "from tensorflow.keras.preprocessing.image import img_to_array, load_img\n",
    "from tensorflow.keras.preprocessing import image\n",
    "\n",
    "model = load_model('deepfake-detection-model.h5')\n",
    "\n",
    "\n",
    "input_shape = (128, 128, 3)\n",
    "pr_data = []\n",
    "detector = dlib.get_frontal_face_detector()\n",
    "cap = cv2.VideoCapture('train_sample_videos/afoovlsmtx.mp4')\n",
    "frameRate = cap.get(5)\n",
    "while cap.isOpened():\n",
    "    frameId = cap.get(1)\n",
    "    ret, frame = cap.read()\n",
    "    if ret != True:\n",
    "        break\n",
    "    if frameId % ((int(frameRate)+1)*1) == 0:\n",
    "        face_rects, scores, idx = detector.run(frame, 0)\n",
    "        for i, d in enumerate(face_rects):\n",
    "            x1 = d.left()\n",
    "            y1 = d.top()\n",
    "            x2 = d.right()\n",
    "            y2 = d.bottom()\n",
    "            crop_img = frame[y1:y2, x1:x2]\n",
    "            data = img_to_array(cv2.resize(crop_img, (128, 128))).flatten() / 255.0\n",
    "            data = data.reshape(-1, 128, 128, 3)\n",
    "            print(model.predict_classes(data))\n"
   ]
  }
 ],
 "metadata": {
  "kernelspec": {
   "display_name": "Python 3",
   "language": "python",
   "name": "python3"
  },
  "language_info": {
   "codemirror_mode": {
    "name": "ipython",
    "version": 3
   },
   "file_extension": ".py",
   "mimetype": "text/x-python",
   "name": "python",
   "nbconvert_exporter": "python",
   "pygments_lexer": "ipython3",
   "version": "3.6.8"
  }
 },
 "nbformat": 4,
 "nbformat_minor": 2
}
